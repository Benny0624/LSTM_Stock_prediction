{
 "cells": [
  {
   "cell_type": "code",
   "execution_count": 2,
   "metadata": {},
   "outputs": [],
   "source": [
    "import pandas as pd\n",
    "import numpy as np\n",
    "\n",
    "historydf= pd.read_csv('C:/Users/veryv/OneDrive/桌面/Stock_data/full_history/MSFT(after2008).csv', index_col=0 )\n",
    "historydf.dropna(how='any',inplace=True)"
   ]
  },
  {
   "cell_type": "code",
   "execution_count": 3,
   "metadata": {},
   "outputs": [],
   "source": [
    "#正規化資料\n",
    "from sklearn import preprocessing\n",
    "\n",
    "def normalize(df):\n",
    "    newdf= df.copy()\n",
    "    min_max_scaler = preprocessing.MinMaxScaler()\n",
    "    \n",
    "    newdf['open'] = min_max_scaler.fit_transform(df.open.values.reshape(-1,1))\n",
    "    newdf['low'] = min_max_scaler.fit_transform(df.low.values.reshape(-1,1))\n",
    "    newdf['high'] = min_max_scaler.fit_transform(df.high.values.reshape(-1,1))\n",
    "    newdf['volume'] = min_max_scaler.fit_transform(df.volume.values.reshape(-1,1))\n",
    "    newdf['close'] = min_max_scaler.fit_transform(df.close.values.reshape(-1,1))\n",
    "    newdf['adjclose'] = min_max_scaler.fit_transform(df.adjclose.values.reshape(-1,1))\n",
    "    \n",
    "    return newdf\n",
    "\n",
    "historydf_norm= normalize(historydf)"
   ]
  },
  {
   "cell_type": "code",
   "execution_count": 4,
   "metadata": {},
   "outputs": [],
   "source": [
    "historydf_norm=historydf_norm.astype('float32')"
   ]
  },
  {
   "cell_type": "code",
   "execution_count": 5,
   "metadata": {
    "scrolled": true
   },
   "outputs": [
    {
     "data": {
      "text/html": [
       "<div>\n",
       "<style scoped>\n",
       "    .dataframe tbody tr th:only-of-type {\n",
       "        vertical-align: middle;\n",
       "    }\n",
       "\n",
       "    .dataframe tbody tr th {\n",
       "        vertical-align: top;\n",
       "    }\n",
       "\n",
       "    .dataframe thead th {\n",
       "        text-align: right;\n",
       "    }\n",
       "</style>\n",
       "<table border=\"1\" class=\"dataframe\">\n",
       "  <thead>\n",
       "    <tr style=\"text-align: right;\">\n",
       "      <th></th>\n",
       "      <th>volume</th>\n",
       "      <th>open</th>\n",
       "      <th>close</th>\n",
       "      <th>high</th>\n",
       "      <th>low</th>\n",
       "      <th>adjclose</th>\n",
       "    </tr>\n",
       "    <tr>\n",
       "      <th>date</th>\n",
       "      <th></th>\n",
       "      <th></th>\n",
       "      <th></th>\n",
       "      <th></th>\n",
       "      <th></th>\n",
       "      <th></th>\n",
       "    </tr>\n",
       "  </thead>\n",
       "  <tbody>\n",
       "    <tr>\n",
       "      <th>2009/1/2</th>\n",
       "      <td>0.136773</td>\n",
       "      <td>0.040471</td>\n",
       "      <td>0.047865</td>\n",
       "      <td>0.044300</td>\n",
       "      <td>0.042281</td>\n",
       "      <td>0.035374</td>\n",
       "    </tr>\n",
       "    <tr>\n",
       "      <th>2009/1/5</th>\n",
       "      <td>0.173296</td>\n",
       "      <td>0.046733</td>\n",
       "      <td>0.049621</td>\n",
       "      <td>0.046803</td>\n",
       "      <td>0.048764</td>\n",
       "      <td>0.036698</td>\n",
       "    </tr>\n",
       "    <tr>\n",
       "      <th>2009/1/6</th>\n",
       "      <td>0.162421</td>\n",
       "      <td>0.051874</td>\n",
       "      <td>0.051839</td>\n",
       "      <td>0.049861</td>\n",
       "      <td>0.053932</td>\n",
       "      <td>0.038370</td>\n",
       "    </tr>\n",
       "    <tr>\n",
       "      <th>2009/1/7</th>\n",
       "      <td>0.209317</td>\n",
       "      <td>0.046640</td>\n",
       "      <td>0.040288</td>\n",
       "      <td>0.043281</td>\n",
       "      <td>0.043315</td>\n",
       "      <td>0.029659</td>\n",
       "    </tr>\n",
       "    <tr>\n",
       "      <th>2009/1/8</th>\n",
       "      <td>0.201447</td>\n",
       "      <td>0.041406</td>\n",
       "      <td>0.045925</td>\n",
       "      <td>0.042354</td>\n",
       "      <td>0.043973</td>\n",
       "      <td>0.033910</td>\n",
       "    </tr>\n",
       "  </tbody>\n",
       "</table>\n",
       "</div>"
      ],
      "text/plain": [
       "            volume      open     close      high       low  adjclose\n",
       "date                                                                \n",
       "2009/1/2  0.136773  0.040471  0.047865  0.044300  0.042281  0.035374\n",
       "2009/1/5  0.173296  0.046733  0.049621  0.046803  0.048764  0.036698\n",
       "2009/1/6  0.162421  0.051874  0.051839  0.049861  0.053932  0.038370\n",
       "2009/1/7  0.209317  0.046640  0.040288  0.043281  0.043315  0.029659\n",
       "2009/1/8  0.201447  0.041406  0.045925  0.042354  0.043973  0.033910"
      ]
     },
     "execution_count": 5,
     "metadata": {},
     "output_type": "execute_result"
    }
   ],
   "source": [
    "historydf_norm.head()"
   ]
  },
  {
   "cell_type": "code",
   "execution_count": 7,
   "metadata": {},
   "outputs": [
    {
     "name": "stderr",
     "output_type": "stream",
     "text": [
      "C:\\Users\\veryv\\Anaconda3\\lib\\site-packages\\ipykernel_launcher.py:7: FutureWarning: Method .as_matrix will be removed in a future version. Use .values instead.\n",
      "  import sys\n"
     ]
    }
   ],
   "source": [
    "#切分資料\n",
    "def data_split(data,sample):\n",
    "    # 資料維度: 開盤價、收盤價、最高價、最低價、成交量... 6維\n",
    "    feature = len(data.columns)\n",
    "    \n",
    "    # 將dataframe 轉成 numpy array\n",
    "    data = data.as_matrix()\n",
    "    newdata = []\n",
    "    y_data = []\n",
    "    # 若想要觀察的 time_frame 為20天, 需要多加一天做為驗證答案\n",
    "    for i in range(len(data)-sample):# 從 datavalue 的第0個跑到倒數第 time_frame+1 個\n",
    "        newdata.append(data[i:(i+sample)])# 逐筆取出 time_frame+1 個 K棒數值做為一筆 instance\n",
    "        y_data.append(data[i+sample,-1:])\n",
    "        \n",
    "    n_train = round(0.8*len(newdata))# 取 result 的前 80% instance做為訓練資料\n",
    "    newdata = np.array(newdata)\n",
    "    \n",
    "    x_train = newdata[:int(n_train)] \n",
    "    y_train = y_data[:int(n_train)] # 訓練資料中, 取每一個 time_frame 中最後一筆資料的最後一個數值(收盤價)做為答案\n",
    "    x_test = newdata[int(n_train):]\n",
    "    y_test = y_data[int(n_train):]\n",
    "\n",
    "    # 將資料組成變好看一點\n",
    "    x_train = x_train.reshape(-1, 30, 6)\n",
    "    x_test = x_test.reshape(-1, 30, 6)\n",
    "    return x_train,np.array(y_train), x_test, np.array(y_test)\n",
    "\n",
    "# 以30天為一區間進行股價預測\n",
    "x_train,y_train,x_test,y_test= data_split(historydf_norm,30)"
   ]
  },
  {
   "cell_type": "code",
   "execution_count": 8,
   "metadata": {
    "scrolled": true
   },
   "outputs": [
    {
     "data": {
      "text/plain": [
       "(2049, 30, 6)"
      ]
     },
     "execution_count": 8,
     "metadata": {},
     "output_type": "execute_result"
    }
   ],
   "source": [
    "x_train.shape"
   ]
  },
  {
   "cell_type": "code",
   "execution_count": 9,
   "metadata": {
    "scrolled": false
   },
   "outputs": [
    {
     "data": {
      "text/plain": [
       "2049"
      ]
     },
     "execution_count": 9,
     "metadata": {},
     "output_type": "execute_result"
    }
   ],
   "source": [
    "len(y_train)"
   ]
  },
  {
   "cell_type": "code",
   "execution_count": 10,
   "metadata": {},
   "outputs": [],
   "source": [
    "import numpy as np \n",
    "import pandas as pd \n",
    "import matplotlib.pyplot as plt \n",
    "import torch as t\n",
    "from torch import nn\n",
    "from torch.autograd import Variable"
   ]
  },
  {
   "cell_type": "code",
   "execution_count": 11,
   "metadata": {
    "scrolled": true
   },
   "outputs": [],
   "source": [
    "x_train = t.from_numpy(x_train)\n",
    "y_train = t.from_numpy(y_train)\n",
    "x_test = t.from_numpy(x_test)\n",
    "y_test = t.from_numpy(y_test)"
   ]
  },
  {
   "cell_type": "code",
   "execution_count": 12,
   "metadata": {},
   "outputs": [],
   "source": [
    "from torch import nn\n",
    "from torch.autograd import Variable\n",
    "\n",
    "#定義模型\n",
    "class lstm_reg(nn.Module):\n",
    "    def __init__(self, input_size, hidden_size, output_size=1, num_layers=2, H=64):\n",
    "            super(lstm_reg, self).__init__()\n",
    "            self.rnn = nn.LSTM(input_size, hidden_size, num_layers)\n",
    "            self.lin = nn.Linear(30*hidden_size, H)\n",
    "            self.reg = nn.Linear(H, output_size)\n",
    "          \n",
    "    def forward(self, x):\n",
    "        r_out, (h_n, h_c) = self.rnn(x, None)   # None represents zero initial hidden state\n",
    "        r_out = r_out.reshape(r_out.shape[0], r_out.shape[1]*r_out.shape[2])\n",
    "        lin = self.lin(r_out)\n",
    "        out = self.reg(lin)\n",
    "        return out\n",
    "    \n",
    "net = lstm_reg(6, 64)\n",
    "criterion = nn.MSELoss()\n",
    "optimizer = t.optim.Adam(net.parameters(), lr=1e-2)"
   ]
  },
  {
   "cell_type": "code",
   "execution_count": 13,
   "metadata": {},
   "outputs": [
    {
     "name": "stdout",
     "output_type": "stream",
     "text": [
      "torch.Size([2049, 1])\n"
     ]
    },
    {
     "name": "stderr",
     "output_type": "stream",
     "text": [
      "C:\\Users\\veryv\\Anaconda3\\lib\\site-packages\\ipykernel_launcher.py:13: UserWarning: invalid index of a 0-dim tensor. This will be an error in PyTorch 0.5. Use tensor.item() to convert a 0-dim tensor to a Python number\n",
      "  del sys.path[0]\n"
     ]
    },
    {
     "name": "stdout",
     "output_type": "stream",
     "text": [
      "Epoch: 1, Loss:0.01983\n",
      "torch.Size([2049, 1])\n",
      "Epoch: 2, Loss:5.61722\n",
      "torch.Size([2049, 1])\n",
      "Epoch: 3, Loss:3.62402\n",
      "torch.Size([2049, 1])\n",
      "Epoch: 4, Loss:0.31384\n",
      "torch.Size([2049, 1])\n",
      "Epoch: 5, Loss:0.22940\n",
      "torch.Size([2049, 1])\n",
      "Epoch: 6, Loss:0.44796\n",
      "torch.Size([2049, 1])\n",
      "Epoch: 7, Loss:0.13403\n",
      "torch.Size([2049, 1])\n",
      "Epoch: 8, Loss:0.01600\n",
      "torch.Size([2049, 1])\n",
      "Epoch: 9, Loss:0.11235\n",
      "torch.Size([2049, 1])\n",
      "Epoch: 10, Loss:0.18162\n",
      "torch.Size([2049, 1])\n",
      "Epoch: 11, Loss:0.14896\n",
      "torch.Size([2049, 1])\n",
      "Epoch: 12, Loss:0.08262\n",
      "torch.Size([2049, 1])\n",
      "Epoch: 13, Loss:0.03370\n",
      "torch.Size([2049, 1])\n",
      "Epoch: 14, Loss:0.01272\n",
      "torch.Size([2049, 1])\n",
      "Epoch: 15, Loss:0.01312\n",
      "torch.Size([2049, 1])\n",
      "Epoch: 16, Loss:0.02393\n",
      "torch.Size([2049, 1])\n",
      "Epoch: 17, Loss:0.03362\n",
      "torch.Size([2049, 1])\n",
      "Epoch: 18, Loss:0.03383\n",
      "torch.Size([2049, 1])\n",
      "Epoch: 19, Loss:0.02386\n",
      "torch.Size([2049, 1])\n",
      "Epoch: 20, Loss:0.01120\n",
      "torch.Size([2049, 1])\n",
      "Epoch: 21, Loss:0.00638\n",
      "torch.Size([2049, 1])\n",
      "Epoch: 22, Loss:0.01385\n",
      "torch.Size([2049, 1])\n",
      "Epoch: 23, Loss:0.02424\n",
      "torch.Size([2049, 1])\n",
      "Epoch: 24, Loss:0.02411\n",
      "torch.Size([2049, 1])\n",
      "Epoch: 25, Loss:0.01326\n",
      "torch.Size([2049, 1])\n",
      "Epoch: 26, Loss:0.00299\n",
      "torch.Size([2049, 1])\n",
      "Epoch: 27, Loss:0.00207\n",
      "torch.Size([2049, 1])\n",
      "Epoch: 28, Loss:0.00841\n",
      "torch.Size([2049, 1])\n",
      "Epoch: 29, Loss:0.01292\n",
      "torch.Size([2049, 1])\n",
      "Epoch: 30, Loss:0.01001\n",
      "torch.Size([2049, 1])\n",
      "Epoch: 31, Loss:0.00327\n",
      "torch.Size([2049, 1])\n",
      "Epoch: 32, Loss:0.00028\n",
      "torch.Size([2049, 1])\n",
      "Epoch: 33, Loss:0.00348\n",
      "torch.Size([2049, 1])\n",
      "Epoch: 34, Loss:0.00784\n",
      "torch.Size([2049, 1])\n",
      "Epoch: 35, Loss:0.00766\n",
      "torch.Size([2049, 1])\n",
      "Epoch: 36, Loss:0.00361\n",
      "torch.Size([2049, 1])\n",
      "Epoch: 37, Loss:0.00094\n",
      "torch.Size([2049, 1])\n",
      "Epoch: 38, Loss:0.00238\n",
      "torch.Size([2049, 1])\n",
      "Epoch: 39, Loss:0.00516\n",
      "torch.Size([2049, 1])\n",
      "Epoch: 40, Loss:0.00534\n",
      "torch.Size([2049, 1])\n",
      "Epoch: 41, Loss:0.00286\n",
      "torch.Size([2049, 1])\n",
      "Epoch: 42, Loss:0.00100\n",
      "torch.Size([2049, 1])\n",
      "Epoch: 43, Loss:0.00164\n",
      "torch.Size([2049, 1])\n",
      "Epoch: 44, Loss:0.00323\n",
      "torch.Size([2049, 1])\n",
      "Epoch: 45, Loss:0.00329\n",
      "torch.Size([2049, 1])\n",
      "Epoch: 46, Loss:0.00175\n",
      "torch.Size([2049, 1])\n",
      "Epoch: 47, Loss:0.00055\n",
      "torch.Size([2049, 1])\n",
      "Epoch: 48, Loss:0.00088\n",
      "torch.Size([2049, 1])\n",
      "Epoch: 49, Loss:0.00180\n",
      "torch.Size([2049, 1])\n",
      "Epoch: 50, Loss:0.00186\n"
     ]
    }
   ],
   "source": [
    "#迭代50次\n",
    "for e in range(50):\n",
    "    var_x = Variable(x_train)\n",
    "    var_y = Variable(y_train)\n",
    " \n",
    "    out = net(var_x)\n",
    "    print(out.shape)\n",
    "    loss = criterion(out, var_y)\n",
    " \n",
    "    optimizer.zero_grad()\n",
    "    loss.backward()\n",
    "    optimizer.step()\n",
    "    print('Epoch: {}, Loss:{:.5f}'.format(e+1, loss.data[0]))\n",
    "        \n",
    "t.save(net.state_dict(), 'net_params.pkl')"
   ]
  },
  {
   "cell_type": "markdown",
   "metadata": {},
   "source": [
    "### Training result"
   ]
  },
  {
   "cell_type": "code",
   "execution_count": 14,
   "metadata": {},
   "outputs": [],
   "source": [
    "var_data = Variable(x_train)\n",
    "pred_train = net(var_data) # 訓練集的预测结果\n",
    "pred_train = pred_train.view(-1).data.numpy()\n",
    "y_train = y_train.view(-1).data.numpy()"
   ]
  },
  {
   "cell_type": "code",
   "execution_count": 15,
   "metadata": {},
   "outputs": [
    {
     "data": {
      "image/png": "[encoded data removed]",
      "text/plain": [
       "<Figure size 432x288 with 1 Axes>"
      ]
     },
     "metadata": {
      "needs_background": "light"
     },
     "output_type": "display_data"
    }
   ],
   "source": [
    "plt.plot(pred_train, 'r', label='prediction')\n",
    "plt.plot(y_train, 'b', label='real')\n",
    "plt.legend(loc='best')\n",
    "plt.show()"
   ]
  },
  {
   "cell_type": "markdown",
   "metadata": {},
   "source": [
    "### Testing result"
   ]
  },
  {
   "cell_type": "code",
   "execution_count": 16,
   "metadata": {
    "scrolled": false
   },
   "outputs": [],
   "source": [
    "var_data = Variable(x_test)\n",
    "pred_test = net(var_data) # 测试集的预测结果\n",
    "pred_test = pred_test.view(-1).data.numpy()\n",
    "y_test = y_test.view(-1).data.numpy()"
   ]
  },
  {
   "cell_type": "code",
   "execution_count": 17,
   "metadata": {
    "scrolled": true
   },
   "outputs": [
    {
     "data": {
      "image/png": "[encoded data removed]",
      "text/plain": [
       "<Figure size 432x288 with 1 Axes>"
      ]
     },
     "metadata": {
      "needs_background": "light"
     },
     "output_type": "display_data"
    }
   ],
   "source": [
    "plt.plot(pred_test, 'r', label='prediction')\n",
    "plt.plot(y_test, 'b', label='real')\n",
    "plt.legend(loc='best')\n",
    "plt.show()"
   ]
  }
 ],
 "metadata": {
  "kernelspec": {
   "display_name": "Python 3",
   "language": "python",
   "name": "python3"
  },
  "language_info": {
   "codemirror_mode": {
    "name": "ipython",
    "version": 3
   },
   "file_extension": ".py",
   "mimetype": "text/x-python",
   "name": "python",
   "nbconvert_exporter": "python",
   "pygments_lexer": "ipython3",
   "version": "3.7.3"
  }
 },
 "nbformat": 4,
 "nbformat_minor": 2
}
