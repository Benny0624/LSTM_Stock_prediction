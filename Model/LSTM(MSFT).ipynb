{
 "cells": [
  {
   "cell_type": "code",
   "execution_count": 12,
   "metadata": {},
   "outputs": [],
   "source": [
    "import pandas as pd\n",
    "import numpy as np\n",
    "\n",
    "historydf= pd.read_csv('C:/Users/veryv/OneDrive/桌面/Stock_data/full_history/MSFT(after2000).csv', index_col=0 )\n",
    "historydf.dropna(how='any',inplace=True)"
   ]
  },
  {
   "cell_type": "code",
   "execution_count": 13,
   "metadata": {},
   "outputs": [],
   "source": [
    "#正規化資料\n",
    "from sklearn import preprocessing\n",
    "\n",
    "def normalize(df):\n",
    "    newdf= df.copy()\n",
    "    min_max_scaler = preprocessing.MinMaxScaler()\n",
    "    \n",
    "    newdf['open'] = min_max_scaler.fit_transform(df.open.values.reshape(-1,1))\n",
    "    newdf['low'] = min_max_scaler.fit_transform(df.low.values.reshape(-1,1))\n",
    "    newdf['high'] = min_max_scaler.fit_transform(df.high.values.reshape(-1,1))\n",
    "    newdf['volume'] = min_max_scaler.fit_transform(df.volume.values.reshape(-1,1))\n",
    "    newdf['close'] = min_max_scaler.fit_transform(df.close.values.reshape(-1,1))\n",
    "    newdf['adjclose'] = min_max_scaler.fit_transform(df.adjclose.values.reshape(-1,1))\n",
    "    \n",
    "    return newdf\n",
    "\n",
    "historydf_norm= normalize(historydf)"
   ]
  },
  {
   "cell_type": "code",
   "execution_count": 14,
   "metadata": {},
   "outputs": [],
   "source": [
    "historydf_norm=historydf_norm.astype('float32')"
   ]
  },
  {
   "cell_type": "code",
   "execution_count": 15,
   "metadata": {
    "scrolled": false
   },
   "outputs": [
    {
     "data": {
      "text/html": [
       "<div>\n",
       "<style scoped>\n",
       "    .dataframe tbody tr th:only-of-type {\n",
       "        vertical-align: middle;\n",
       "    }\n",
       "\n",
       "    .dataframe tbody tr th {\n",
       "        vertical-align: top;\n",
       "    }\n",
       "\n",
       "    .dataframe thead th {\n",
       "        text-align: right;\n",
       "    }\n",
       "</style>\n",
       "<table border=\"1\" class=\"dataframe\">\n",
       "  <thead>\n",
       "    <tr style=\"text-align: right;\">\n",
       "      <th></th>\n",
       "      <th>volume</th>\n",
       "      <th>open</th>\n",
       "      <th>close</th>\n",
       "      <th>high</th>\n",
       "      <th>low</th>\n",
       "      <th>adjclose</th>\n",
       "    </tr>\n",
       "    <tr>\n",
       "      <th>date</th>\n",
       "      <th></th>\n",
       "      <th></th>\n",
       "      <th></th>\n",
       "      <th></th>\n",
       "      <th></th>\n",
       "      <th></th>\n",
       "    </tr>\n",
       "  </thead>\n",
       "  <tbody>\n",
       "    <tr>\n",
       "      <th>2000/1/3</th>\n",
       "      <td>0.078480</td>\n",
       "      <td>0.406463</td>\n",
       "      <td>0.398552</td>\n",
       "      <td>0.404935</td>\n",
       "      <td>0.386451</td>\n",
       "      <td>0.271363</td>\n",
       "    </tr>\n",
       "    <tr>\n",
       "      <th>2000/1/4</th>\n",
       "      <td>0.080006</td>\n",
       "      <td>0.388646</td>\n",
       "      <td>0.380359</td>\n",
       "      <td>0.397984</td>\n",
       "      <td>0.387626</td>\n",
       "      <td>0.258605</td>\n",
       "    </tr>\n",
       "    <tr>\n",
       "      <th>2000/1/5</th>\n",
       "      <td>0.097038</td>\n",
       "      <td>0.377255</td>\n",
       "      <td>0.385846</td>\n",
       "      <td>0.394509</td>\n",
       "      <td>0.374119</td>\n",
       "      <td>0.262453</td>\n",
       "    </tr>\n",
       "    <tr>\n",
       "      <th>2000/1/6</th>\n",
       "      <td>0.081475</td>\n",
       "      <td>0.382220</td>\n",
       "      <td>0.368231</td>\n",
       "      <td>0.382924</td>\n",
       "      <td>0.369421</td>\n",
       "      <td>0.250100</td>\n",
       "    </tr>\n",
       "    <tr>\n",
       "      <th>2000/1/7</th>\n",
       "      <td>0.093532</td>\n",
       "      <td>0.365572</td>\n",
       "      <td>0.374873</td>\n",
       "      <td>0.375394</td>\n",
       "      <td>0.364430</td>\n",
       "      <td>0.254758</td>\n",
       "    </tr>\n",
       "  </tbody>\n",
       "</table>\n",
       "</div>"
      ],
      "text/plain": [
       "            volume      open     close      high       low  adjclose\n",
       "date                                                                \n",
       "2000/1/3  0.078480  0.406463  0.398552  0.404935  0.386451  0.271363\n",
       "2000/1/4  0.080006  0.388646  0.380359  0.397984  0.387626  0.258605\n",
       "2000/1/5  0.097038  0.377255  0.385846  0.394509  0.374119  0.262453\n",
       "2000/1/6  0.081475  0.382220  0.368231  0.382924  0.369421  0.250100\n",
       "2000/1/7  0.093532  0.365572  0.374873  0.375394  0.364430  0.254758"
      ]
     },
     "execution_count": 15,
     "metadata": {},
     "output_type": "execute_result"
    }
   ],
   "source": [
    "historydf_norm.head()"
   ]
  },
  {
   "cell_type": "code",
   "execution_count": 27,
   "metadata": {},
   "outputs": [
    {
     "name": "stderr",
     "output_type": "stream",
     "text": [
      "C:\\Users\\veryv\\Anaconda3\\lib\\site-packages\\ipykernel_launcher.py:7: FutureWarning: Method .as_matrix will be removed in a future version. Use .values instead.\n",
      "  import sys\n"
     ]
    }
   ],
   "source": [
    "#切分資料\n",
    "def data_split(data,sample):\n",
    "    # 資料維度: 開盤價、收盤價、最高價、最低價、成交量... 6維\n",
    "    feature = len(data.columns)\n",
    "    \n",
    "    # 將dataframe 轉成 numpy array\n",
    "    data = data.as_matrix()\n",
    "    newdata = []\n",
    "    y_data = []\n",
    "    # 若想要觀察的 time_frame 為20天, 需要多加一天做為驗證答案\n",
    "    for i in range(len(data)-sample):# 從 datavalue 的第0個跑到倒數第 time_frame+1 個\n",
    "        newdata.append(data[i:(i+sample)])# 逐筆取出 time_frame+1 個 K棒數值做為一筆 instance\n",
    "        y_data.append(data[i+sample,-1:])\n",
    "        \n",
    "    n_train = round(0.8*len(newdata))# 取 result 的前 80% instance做為訓練資料\n",
    "    newdata = np.array(newdata)\n",
    "    \n",
    "    x_train = newdata[:int(n_train)] \n",
    "    y_train = y_data[:int(n_train)] # 訓練資料中, 取每一個 time_frame 中最後一筆資料的最後一個數值(收盤價)做為答案\n",
    "    x_test = newdata[int(n_train):]\n",
    "    y_test = y_data[int(n_train):]\n",
    "\n",
    "    # 將資料組成變好看一點\n",
    "    x_train = x_train.reshape(-1, 30, 6)\n",
    "    x_test = x_test.reshape(-1, 30, 6)\n",
    "    return x_train,np.array(y_train), x_test, np.array(y_test)\n",
    "\n",
    "# 以30天為一區間進行股價預測\n",
    "x_train,y_train,x_test,y_test= data_split(historydf_norm,30)"
   ]
  },
  {
   "cell_type": "code",
   "execution_count": 17,
   "metadata": {
    "scrolled": true
   },
   "outputs": [
    {
     "data": {
      "text/plain": [
       "(3859, 30, 6)"
      ]
     },
     "execution_count": 17,
     "metadata": {},
     "output_type": "execute_result"
    }
   ],
   "source": [
    "x_train.shape"
   ]
  },
  {
   "cell_type": "code",
   "execution_count": 18,
   "metadata": {
    "scrolled": false
   },
   "outputs": [
    {
     "data": {
      "text/plain": [
       "3859"
      ]
     },
     "execution_count": 18,
     "metadata": {},
     "output_type": "execute_result"
    }
   ],
   "source": [
    "len(y_train)"
   ]
  },
  {
   "cell_type": "code",
   "execution_count": 19,
   "metadata": {},
   "outputs": [],
   "source": [
    "import numpy as np \n",
    "import pandas as pd \n",
    "import matplotlib.pyplot as plt \n",
    "import torch as t\n",
    "from torch import nn\n",
    "from torch.autograd import Variable"
   ]
  },
  {
   "cell_type": "code",
   "execution_count": 28,
   "metadata": {
    "scrolled": true
   },
   "outputs": [],
   "source": [
    "x_train = t.from_numpy(x_train)\n",
    "y_train = t.from_numpy(y_train)\n",
    "x_test = t.from_numpy(x_test)\n",
    "y_test = t.from_numpy(y_test)"
   ]
  },
  {
   "cell_type": "code",
   "execution_count": 21,
   "metadata": {},
   "outputs": [],
   "source": [
    "from torch import nn\n",
    "from torch.autograd import Variable\n",
    "\n",
    "#定義模型\n",
    "class lstm_reg(nn.Module):\n",
    "    def __init__(self, input_size, hidden_size, output_size=1, num_layers=2):\n",
    "            super(lstm_reg, self).__init__()\n",
    "            self.rnn = nn.LSTM(input_size, hidden_size, num_layers)\n",
    "            self.reg = nn.Linear(30*hidden_size, output_size)\n",
    "          \n",
    "    def forward(self, x):\n",
    "        r_out, (h_n, h_c) = self.rnn(x, None)   # None represents zero initial hidden state\n",
    "        r_out = r_out.reshape(r_out.shape[0], r_out.shape[1]*r_out.shape[2])\n",
    "        out = self.reg(r_out)\n",
    "        return out\n",
    "#定義好網路結構，輸入的維度是 2，因為我們使用兩個月的流量作為輸入，隱藏層的維度可以任意指定，這裡我們選的 4\n",
    "net = lstm_reg(6, 64)\n",
    "criterion = nn.MSELoss()\n",
    "optimizer = t.optim.Adam(net.parameters(), lr=1e-2)"
   ]
  },
  {
   "cell_type": "code",
   "execution_count": 22,
   "metadata": {},
   "outputs": [
    {
     "name": "stdout",
     "output_type": "stream",
     "text": [
      "torch.Size([3859, 1])\n",
      "Epoch: 1, Loss:0.02343\n"
     ]
    },
    {
     "name": "stderr",
     "output_type": "stream",
     "text": [
      "C:\\Users\\veryv\\Anaconda3\\lib\\site-packages\\ipykernel_launcher.py:14: UserWarning: invalid index of a 0-dim tensor. This will be an error in PyTorch 0.5. Use tensor.item() to convert a 0-dim tensor to a Python number\n",
      "  \n"
     ]
    },
    {
     "name": "stdout",
     "output_type": "stream",
     "text": [
      "torch.Size([3859, 1])\n",
      "Epoch: 2, Loss:0.58278\n",
      "torch.Size([3859, 1])\n",
      "Epoch: 3, Loss:0.14334\n",
      "torch.Size([3859, 1])\n",
      "Epoch: 4, Loss:0.08977\n",
      "torch.Size([3859, 1])\n",
      "Epoch: 5, Loss:0.00338\n",
      "torch.Size([3859, 1])\n",
      "Epoch: 6, Loss:0.04379\n",
      "torch.Size([3859, 1])\n",
      "Epoch: 7, Loss:0.03823\n",
      "torch.Size([3859, 1])\n",
      "Epoch: 8, Loss:0.00672\n",
      "torch.Size([3859, 1])\n",
      "Epoch: 9, Loss:0.01167\n",
      "torch.Size([3859, 1])\n",
      "Epoch: 10, Loss:0.02943\n",
      "torch.Size([3859, 1])\n",
      "Epoch: 11, Loss:0.02822\n",
      "torch.Size([3859, 1])\n",
      "Epoch: 12, Loss:0.01379\n",
      "torch.Size([3859, 1])\n",
      "Epoch: 13, Loss:0.00494\n",
      "torch.Size([3859, 1])\n",
      "Epoch: 14, Loss:0.00837\n",
      "torch.Size([3859, 1])\n",
      "Epoch: 15, Loss:0.01612\n",
      "torch.Size([3859, 1])\n",
      "Epoch: 16, Loss:0.01737\n",
      "torch.Size([3859, 1])\n",
      "Epoch: 17, Loss:0.01147\n",
      "torch.Size([3859, 1])\n",
      "Epoch: 18, Loss:0.00559\n",
      "torch.Size([3859, 1])\n",
      "Epoch: 19, Loss:0.00459\n",
      "torch.Size([3859, 1])\n",
      "Epoch: 20, Loss:0.00744\n",
      "torch.Size([3859, 1])\n",
      "Epoch: 21, Loss:0.01028\n",
      "torch.Size([3859, 1])\n",
      "Epoch: 22, Loss:0.01036\n",
      "torch.Size([3859, 1])\n",
      "Epoch: 23, Loss:0.00784\n",
      "torch.Size([3859, 1])\n",
      "Epoch: 24, Loss:0.00487\n",
      "torch.Size([3859, 1])\n",
      "Epoch: 25, Loss:0.00356\n",
      "torch.Size([3859, 1])\n",
      "Epoch: 26, Loss:0.00437\n",
      "torch.Size([3859, 1])\n",
      "Epoch: 27, Loss:0.00594\n",
      "torch.Size([3859, 1])\n",
      "Epoch: 28, Loss:0.00650\n",
      "torch.Size([3859, 1])\n",
      "Epoch: 29, Loss:0.00548\n",
      "torch.Size([3859, 1])\n",
      "Epoch: 30, Loss:0.00380\n",
      "torch.Size([3859, 1])\n",
      "Epoch: 31, Loss:0.00277\n",
      "torch.Size([3859, 1])\n",
      "Epoch: 32, Loss:0.00286\n",
      "torch.Size([3859, 1])\n",
      "Epoch: 33, Loss:0.00356\n",
      "torch.Size([3859, 1])\n",
      "Epoch: 34, Loss:0.00400\n",
      "torch.Size([3859, 1])\n",
      "Epoch: 35, Loss:0.00368\n",
      "torch.Size([3859, 1])\n",
      "Epoch: 36, Loss:0.00281\n",
      "torch.Size([3859, 1])\n",
      "Epoch: 37, Loss:0.00201\n",
      "torch.Size([3859, 1])\n",
      "Epoch: 38, Loss:0.00177\n",
      "torch.Size([3859, 1])\n",
      "Epoch: 39, Loss:0.00206\n",
      "torch.Size([3859, 1])\n",
      "Epoch: 40, Loss:0.00237\n",
      "torch.Size([3859, 1])\n",
      "Epoch: 41, Loss:0.00223\n",
      "torch.Size([3859, 1])\n",
      "Epoch: 42, Loss:0.00167\n",
      "torch.Size([3859, 1])\n",
      "Epoch: 43, Loss:0.00115\n",
      "torch.Size([3859, 1])\n",
      "Epoch: 44, Loss:0.00100\n",
      "torch.Size([3859, 1])\n",
      "Epoch: 45, Loss:0.00117\n",
      "torch.Size([3859, 1])\n",
      "Epoch: 46, Loss:0.00129\n",
      "torch.Size([3859, 1])\n",
      "Epoch: 47, Loss:0.00111\n",
      "torch.Size([3859, 1])\n",
      "Epoch: 48, Loss:0.00073\n",
      "torch.Size([3859, 1])\n",
      "Epoch: 49, Loss:0.00049\n",
      "torch.Size([3859, 1])\n",
      "Epoch: 50, Loss:0.00056\n"
     ]
    }
   ],
   "source": [
    "\n",
    "#迭代50次\n",
    "for e in range(50):\n",
    "    var_x = Variable(x_train)\n",
    "    var_y = Variable(y_train)\n",
    " \n",
    "    out = net(var_x)\n",
    "    print(out.shape)\n",
    "    loss = criterion(out, var_y)\n",
    " \n",
    "    optimizer.zero_grad()\n",
    "    loss.backward()\n",
    "    optimizer.step()\n",
    "    print('Epoch: {}, Loss:{:.5f}'.format(e+1, loss.data[0]))\n",
    "        \n",
    "t.save(net.state_dict(), 'net_params.pkl')"
   ]
  },
  {
   "cell_type": "markdown",
   "metadata": {},
   "source": [
    "### Training result"
   ]
  },
  {
   "cell_type": "code",
   "execution_count": 23,
   "metadata": {},
   "outputs": [],
   "source": [
    "var_data = Variable(x_train)\n",
    "pred_train = net(var_data) # 訓練集的预测结果\n",
    "pred_train = pred_train.view(-1).data.numpy()\n",
    "y_train = y_train.view(-1).data.numpy()"
   ]
  },
  {
   "cell_type": "code",
   "execution_count": 24,
   "metadata": {},
   "outputs": [
    {
     "data": {
      "image/png": "[encoded data removed]",
      "text/plain": [
       "<Figure size 432x288 with 1 Axes>"
      ]
     },
     "metadata": {
      "needs_background": "light"
     },
     "output_type": "display_data"
    }
   ],
   "source": [
    "plt.plot(pred_train, 'r', label='prediction')\n",
    "plt.plot(y_train, 'b', label='real')\n",
    "plt.legend(loc='best')\n",
    "plt.show()"
   ]
  },
  {
   "cell_type": "markdown",
   "metadata": {},
   "source": [
    "### Testing result"
   ]
  },
  {
   "cell_type": "code",
   "execution_count": 29,
   "metadata": {
    "scrolled": false
   },
   "outputs": [],
   "source": [
    "var_data = Variable(x_test)\n",
    "pred_test = net(var_data) # 测试集的预测结果\n",
    "pred_test = pred_test.view(-1).data.numpy()\n",
    "y_test = y_test.view(-1).data.numpy()"
   ]
  },
  {
   "cell_type": "code",
   "execution_count": 30,
   "metadata": {
    "scrolled": true
   },
   "outputs": [
    {
     "data": {
      "image/png": "[encoded data removed]",
      "text/plain": [
       "<Figure size 432x288 with 1 Axes>"
      ]
     },
     "metadata": {
      "needs_background": "light"
     },
     "output_type": "display_data"
    }
   ],
   "source": [
    "plt.plot(pred_test, 'r', label='prediction')\n",
    "plt.plot(y_test, 'b', label='real')\n",
    "plt.legend(loc='best')\n",
    "plt.show()"
   ]
  }
 ],
 "metadata": {
  "kernelspec": {
   "display_name": "Python 3",
   "language": "python",
   "name": "python3"
  },
  "language_info": {
   "codemirror_mode": {
    "name": "ipython",
    "version": 3
   },
   "file_extension": ".py",
   "mimetype": "text/x-python",
   "name": "python",
   "nbconvert_exporter": "python",
   "pygments_lexer": "ipython3",
   "version": "3.7.3"
  }
 },
 "nbformat": 4,
 "nbformat_minor": 2
}
